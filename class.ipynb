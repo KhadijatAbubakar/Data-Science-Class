{
 "cells": [
  {
   "cell_type": "code",
   "execution_count": 1,
   "id": "0a34b4c4-5a02-409f-ba6a-7330d34ad075",
   "metadata": {},
   "outputs": [
    {
     "name": "stdout",
     "output_type": "stream",
     "text": [
      "khadijat\n"
     ]
    }
   ],
   "source": [
    "print (\"khadijat\")"
   ]
  },
  {
   "cell_type": "code",
   "execution_count": 2,
   "id": "8e688abf-6a1c-45a9-8aea-e86e812710c5",
   "metadata": {},
   "outputs": [
    {
     "name": "stdout",
     "output_type": "stream",
     "text": [
      "webfala\n"
     ]
    }
   ],
   "source": [
    "print (\"webfala\")"
   ]
  },
  {
   "cell_type": "code",
   "execution_count": 3,
   "id": "a6318471-7018-4307-a900-53255dbfabc0",
   "metadata": {},
   "outputs": [
    {
     "data": {
      "text/plain": [
       "18"
      ]
     },
     "execution_count": 3,
     "metadata": {},
     "output_type": "execute_result"
    }
   ],
   "source": [
    "3*6\n"
   ]
  },
  {
   "cell_type": "code",
   "execution_count": null,
   "id": "8567ba20-8296-4c59-9eb8-4ee42a3dfa78",
   "metadata": {},
   "outputs": [],
   "source": [
    "print (\"hello world\")"
   ]
  },
  {
   "cell_type": "code",
   "execution_count": null,
   "id": "9efd6f9f",
   "metadata": {},
   "outputs": [],
   "source": []
  }
 ],
 "metadata": {
  "kernelspec": {
   "display_name": "Python 3 (ipykernel)",
   "language": "python",
   "name": "python3"
  },
  "language_info": {
   "codemirror_mode": {
    "name": "ipython",
    "version": 3
   },
   "file_extension": ".py",
   "mimetype": "text/x-python",
   "name": "python",
   "nbconvert_exporter": "python",
   "pygments_lexer": "ipython3",
   "version": "3.11.7"
  }
 },
 "nbformat": 4,
 "nbformat_minor": 5
}
